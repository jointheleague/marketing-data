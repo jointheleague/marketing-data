{
 "cells": [
  {
   "cell_type": "code",
   "execution_count": 19,
   "metadata": {},
   "outputs": [],
   "source": [
    "import pandas as ps\n",
    "from pathlib import Path\n",
    "import re\n",
    "from email.utils import parseaddr\n",
    "from collections import defaultdict\n",
    "import yaml"
   ]
  },
  {
   "cell_type": "code",
   "execution_count": 20,
   "metadata": {},
   "outputs": [
    {
     "data": {
      "text/plain": [
       "7761"
      ]
     },
     "execution_count": 20,
     "metadata": {},
     "output_type": "execute_result"
    }
   ],
   "source": [
    "d = Path('./emails.txt').read_text()\n",
    "c = defaultdict(list)\n",
    "\n",
    "for l in d.split(','):\n",
    "    try:\n",
    "        _, a = parseaddr(l)\n",
    "    except TypeError:\n",
    "        continue\n",
    "\n",
    "    try:\n",
    "        _, domain = a.split('@')\n",
    "\n",
    "        c[domain].append(a)\n",
    "    except Exception as e:\n",
    "        pass\n",
    "\n",
    "\n",
    "Path('emails.yaml').write_text(yaml.safe_dump(dict(**c)))\n"
   ]
  },
  {
   "cell_type": "code",
   "execution_count": null,
   "metadata": {},
   "outputs": [],
   "source": []
  },
  {
   "cell_type": "code",
   "execution_count": null,
   "metadata": {},
   "outputs": [],
   "source": []
  }
 ],
 "metadata": {
  "kernelspec": {
   "display_name": "Python 3",
   "language": "python",
   "name": "python3"
  },
  "language_info": {
   "codemirror_mode": {
    "name": "ipython",
    "version": 3
   },
   "file_extension": ".py",
   "mimetype": "text/x-python",
   "name": "python",
   "nbconvert_exporter": "python",
   "pygments_lexer": "ipython3",
   "version": "3.10.13"
  }
 },
 "nbformat": 4,
 "nbformat_minor": 2
}
